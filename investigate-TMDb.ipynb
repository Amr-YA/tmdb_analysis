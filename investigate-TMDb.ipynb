{
 "cells": [
  {
   "cell_type": "markdown",
   "metadata": {},
   "source": [
    "\n",
    "# Investigate TMDb\n",
    "\n",
    "## Table of Contents\n",
    "<ul>\n",
    "<li><a href=\"#intro\">Introduction</a></li>\n",
    "<li><a href=\"#wrangling\">Data Wrangling</a></li>\n",
    "<li><a href=\"#eda\">Exploratory Data Analysis</a></li>\n",
    "<li><a href=\"#conclusions\">Conclusions</a></li>\n",
    "</ul>"
   ]
  },
  {
   "cell_type": "markdown",
   "metadata": {},
   "source": [
    "<a id='intro'></a>\n",
    "## Introduction\n",
    "\n",
    "This data set contains informationa about 10,000 movies collected from The Movie Database (TMDb),including user ratings and revenue.\n",
    "\n",
    "[Kaggle summary](https://www.kaggle.com/tmdb/tmdb-movie-metadata)\n",
    ">What can we say about the success of a movie before it is released? Are there certain companies (Pixar?) that have found a consistent formula? Given that major films costing over $100 million to produce can still flop, this question is more important than ever to the industry. Film aficionados might have different interests. Can we predict which films will be highly rated, whether or not they are a commercial success?"
   ]
  },
  {
   "cell_type": "code",
   "execution_count": 1,
   "metadata": {},
   "outputs": [],
   "source": [
    "# Import statement\n",
    "import pandas as pd\n",
    "import numpy as np\n",
    "import matplotlib.pyplot as plt\n",
    "import seaborn as sns\n",
    "# for showing graphs inside the same window\n",
    "%matplotlib inline\n",
    "# for setting decimal places while diplaying dataframe numbers\n",
    "pd.options.display.float_format = \"{:.2f}\".format\n"
   ]
  },
  {
   "cell_type": "markdown",
   "metadata": {},
   "source": [
    "<a id='wrangling'></a>\n",
    "## Data Wrangling\n",
    "\n",
    "### General Properties"
   ]
  },
  {
   "cell_type": "code",
   "execution_count": 2,
   "metadata": {},
   "outputs": [],
   "source": [
    "# Loading the data\n",
    "file_name = 'tmdb-movies.csv'\n",
    "df = pd.read_csv(file_name)"
   ]
  },
  {
   "cell_type": "code",
   "execution_count": 3,
   "metadata": {
    "scrolled": false
   },
   "outputs": [
    {
     "data": {
      "text/html": [
       "<div>\n",
       "<style scoped>\n",
       "    .dataframe tbody tr th:only-of-type {\n",
       "        vertical-align: middle;\n",
       "    }\n",
       "\n",
       "    .dataframe tbody tr th {\n",
       "        vertical-align: top;\n",
       "    }\n",
       "\n",
       "    .dataframe thead th {\n",
       "        text-align: right;\n",
       "    }\n",
       "</style>\n",
       "<table border=\"1\" class=\"dataframe\">\n",
       "  <thead>\n",
       "    <tr style=\"text-align: right;\">\n",
       "      <th></th>\n",
       "      <th>id</th>\n",
       "      <th>imdb_id</th>\n",
       "      <th>popularity</th>\n",
       "      <th>budget</th>\n",
       "      <th>revenue</th>\n",
       "      <th>original_title</th>\n",
       "      <th>cast</th>\n",
       "      <th>homepage</th>\n",
       "      <th>director</th>\n",
       "      <th>tagline</th>\n",
       "      <th>...</th>\n",
       "      <th>overview</th>\n",
       "      <th>runtime</th>\n",
       "      <th>genres</th>\n",
       "      <th>production_companies</th>\n",
       "      <th>release_date</th>\n",
       "      <th>vote_count</th>\n",
       "      <th>vote_average</th>\n",
       "      <th>release_year</th>\n",
       "      <th>budget_adj</th>\n",
       "      <th>revenue_adj</th>\n",
       "    </tr>\n",
       "  </thead>\n",
       "  <tbody>\n",
       "    <tr>\n",
       "      <th>0</th>\n",
       "      <td>135397</td>\n",
       "      <td>tt0369610</td>\n",
       "      <td>32.99</td>\n",
       "      <td>150000000</td>\n",
       "      <td>1513528810</td>\n",
       "      <td>Jurassic World</td>\n",
       "      <td>Chris Pratt|Bryce Dallas Howard|Irrfan Khan|Vi...</td>\n",
       "      <td>http://www.jurassicworld.com/</td>\n",
       "      <td>Colin Trevorrow</td>\n",
       "      <td>The park is open.</td>\n",
       "      <td>...</td>\n",
       "      <td>Twenty-two years after the events of Jurassic ...</td>\n",
       "      <td>124</td>\n",
       "      <td>Action|Adventure|Science Fiction|Thriller</td>\n",
       "      <td>Universal Studios|Amblin Entertainment|Legenda...</td>\n",
       "      <td>6/9/15</td>\n",
       "      <td>5562</td>\n",
       "      <td>6.50</td>\n",
       "      <td>2015</td>\n",
       "      <td>137999939.28</td>\n",
       "      <td>1392445892.52</td>\n",
       "    </tr>\n",
       "    <tr>\n",
       "      <th>1</th>\n",
       "      <td>76341</td>\n",
       "      <td>tt1392190</td>\n",
       "      <td>28.42</td>\n",
       "      <td>150000000</td>\n",
       "      <td>378436354</td>\n",
       "      <td>Mad Max: Fury Road</td>\n",
       "      <td>Tom Hardy|Charlize Theron|Hugh Keays-Byrne|Nic...</td>\n",
       "      <td>http://www.madmaxmovie.com/</td>\n",
       "      <td>George Miller</td>\n",
       "      <td>What a Lovely Day.</td>\n",
       "      <td>...</td>\n",
       "      <td>An apocalyptic story set in the furthest reach...</td>\n",
       "      <td>120</td>\n",
       "      <td>Action|Adventure|Science Fiction|Thriller</td>\n",
       "      <td>Village Roadshow Pictures|Kennedy Miller Produ...</td>\n",
       "      <td>5/13/15</td>\n",
       "      <td>6185</td>\n",
       "      <td>7.10</td>\n",
       "      <td>2015</td>\n",
       "      <td>137999939.28</td>\n",
       "      <td>348161292.49</td>\n",
       "    </tr>\n",
       "    <tr>\n",
       "      <th>2</th>\n",
       "      <td>262500</td>\n",
       "      <td>tt2908446</td>\n",
       "      <td>13.11</td>\n",
       "      <td>110000000</td>\n",
       "      <td>295238201</td>\n",
       "      <td>Insurgent</td>\n",
       "      <td>Shailene Woodley|Theo James|Kate Winslet|Ansel...</td>\n",
       "      <td>http://www.thedivergentseries.movie/#insurgent</td>\n",
       "      <td>Robert Schwentke</td>\n",
       "      <td>One Choice Can Destroy You</td>\n",
       "      <td>...</td>\n",
       "      <td>Beatrice Prior must confront her inner demons ...</td>\n",
       "      <td>119</td>\n",
       "      <td>Adventure|Science Fiction|Thriller</td>\n",
       "      <td>Summit Entertainment|Mandeville Films|Red Wago...</td>\n",
       "      <td>3/18/15</td>\n",
       "      <td>2480</td>\n",
       "      <td>6.30</td>\n",
       "      <td>2015</td>\n",
       "      <td>101199955.47</td>\n",
       "      <td>271619025.41</td>\n",
       "    </tr>\n",
       "  </tbody>\n",
       "</table>\n",
       "<p>3 rows × 21 columns</p>\n",
       "</div>"
      ],
      "text/plain": [
       "       id    imdb_id  popularity     budget     revenue      original_title  \\\n",
       "0  135397  tt0369610       32.99  150000000  1513528810      Jurassic World   \n",
       "1   76341  tt1392190       28.42  150000000   378436354  Mad Max: Fury Road   \n",
       "2  262500  tt2908446       13.11  110000000   295238201           Insurgent   \n",
       "\n",
       "                                                cast  \\\n",
       "0  Chris Pratt|Bryce Dallas Howard|Irrfan Khan|Vi...   \n",
       "1  Tom Hardy|Charlize Theron|Hugh Keays-Byrne|Nic...   \n",
       "2  Shailene Woodley|Theo James|Kate Winslet|Ansel...   \n",
       "\n",
       "                                         homepage          director  \\\n",
       "0                   http://www.jurassicworld.com/   Colin Trevorrow   \n",
       "1                     http://www.madmaxmovie.com/     George Miller   \n",
       "2  http://www.thedivergentseries.movie/#insurgent  Robert Schwentke   \n",
       "\n",
       "                      tagline  ...  \\\n",
       "0           The park is open.  ...   \n",
       "1          What a Lovely Day.  ...   \n",
       "2  One Choice Can Destroy You  ...   \n",
       "\n",
       "                                            overview runtime  \\\n",
       "0  Twenty-two years after the events of Jurassic ...     124   \n",
       "1  An apocalyptic story set in the furthest reach...     120   \n",
       "2  Beatrice Prior must confront her inner demons ...     119   \n",
       "\n",
       "                                      genres  \\\n",
       "0  Action|Adventure|Science Fiction|Thriller   \n",
       "1  Action|Adventure|Science Fiction|Thriller   \n",
       "2         Adventure|Science Fiction|Thriller   \n",
       "\n",
       "                                production_companies release_date vote_count  \\\n",
       "0  Universal Studios|Amblin Entertainment|Legenda...       6/9/15       5562   \n",
       "1  Village Roadshow Pictures|Kennedy Miller Produ...      5/13/15       6185   \n",
       "2  Summit Entertainment|Mandeville Films|Red Wago...      3/18/15       2480   \n",
       "\n",
       "   vote_average  release_year   budget_adj   revenue_adj  \n",
       "0          6.50          2015 137999939.28 1392445892.52  \n",
       "1          7.10          2015 137999939.28  348161292.49  \n",
       "2          6.30          2015 101199955.47  271619025.41  \n",
       "\n",
       "[3 rows x 21 columns]"
      ]
     },
     "execution_count": 3,
     "metadata": {},
     "output_type": "execute_result"
    }
   ],
   "source": [
    "# Exploring the data\n",
    "df.head(3)"
   ]
  },
  {
   "cell_type": "code",
   "execution_count": 4,
   "metadata": {},
   "outputs": [
    {
     "name": "stdout",
     "output_type": "stream",
     "text": [
      "<class 'pandas.core.frame.DataFrame'>\n",
      "RangeIndex: 10866 entries, 0 to 10865\n",
      "Data columns (total 21 columns):\n",
      " #   Column                Non-Null Count  Dtype  \n",
      "---  ------                --------------  -----  \n",
      " 0   id                    10866 non-null  int64  \n",
      " 1   imdb_id               10856 non-null  object \n",
      " 2   popularity            10866 non-null  float64\n",
      " 3   budget                10866 non-null  int64  \n",
      " 4   revenue               10866 non-null  int64  \n",
      " 5   original_title        10866 non-null  object \n",
      " 6   cast                  10790 non-null  object \n",
      " 7   homepage              2936 non-null   object \n",
      " 8   director              10822 non-null  object \n",
      " 9   tagline               8042 non-null   object \n",
      " 10  keywords              9373 non-null   object \n",
      " 11  overview              10862 non-null  object \n",
      " 12  runtime               10866 non-null  int64  \n",
      " 13  genres                10843 non-null  object \n",
      " 14  production_companies  9836 non-null   object \n",
      " 15  release_date          10866 non-null  object \n",
      " 16  vote_count            10866 non-null  int64  \n",
      " 17  vote_average          10866 non-null  float64\n",
      " 18  release_year          10866 non-null  int64  \n",
      " 19  budget_adj            10866 non-null  float64\n",
      " 20  revenue_adj           10866 non-null  float64\n",
      "dtypes: float64(4), int64(6), object(11)\n",
      "memory usage: 1.7+ MB\n"
     ]
    }
   ],
   "source": [
    "df.info()"
   ]
  },
  {
   "cell_type": "code",
   "execution_count": 5,
   "metadata": {},
   "outputs": [
    {
     "data": {
      "text/plain": [
       "id                         0\n",
       "imdb_id                   10\n",
       "popularity                 0\n",
       "budget                     0\n",
       "revenue                    0\n",
       "original_title             0\n",
       "cast                      76\n",
       "homepage                7930\n",
       "director                  44\n",
       "tagline                 2824\n",
       "keywords                1493\n",
       "overview                   4\n",
       "runtime                    0\n",
       "genres                    23\n",
       "production_companies    1030\n",
       "release_date               0\n",
       "vote_count                 0\n",
       "vote_average               0\n",
       "release_year               0\n",
       "budget_adj                 0\n",
       "revenue_adj                0\n",
       "dtype: int64"
      ]
     },
     "execution_count": 5,
     "metadata": {},
     "output_type": "execute_result"
    }
   ],
   "source": [
    "# checking for null values in each columns\n",
    "df.isnull().sum()"
   ]
  },
  {
   "cell_type": "code",
   "execution_count": 6,
   "metadata": {},
   "outputs": [
    {
     "data": {
      "text/html": [
       "<div>\n",
       "<style scoped>\n",
       "    .dataframe tbody tr th:only-of-type {\n",
       "        vertical-align: middle;\n",
       "    }\n",
       "\n",
       "    .dataframe tbody tr th {\n",
       "        vertical-align: top;\n",
       "    }\n",
       "\n",
       "    .dataframe thead th {\n",
       "        text-align: right;\n",
       "    }\n",
       "</style>\n",
       "<table border=\"1\" class=\"dataframe\">\n",
       "  <thead>\n",
       "    <tr style=\"text-align: right;\">\n",
       "      <th></th>\n",
       "      <th>id</th>\n",
       "      <th>popularity</th>\n",
       "      <th>budget</th>\n",
       "      <th>revenue</th>\n",
       "      <th>runtime</th>\n",
       "      <th>vote_count</th>\n",
       "      <th>vote_average</th>\n",
       "      <th>release_year</th>\n",
       "      <th>budget_adj</th>\n",
       "      <th>revenue_adj</th>\n",
       "    </tr>\n",
       "  </thead>\n",
       "  <tbody>\n",
       "    <tr>\n",
       "      <th>count</th>\n",
       "      <td>10866.00</td>\n",
       "      <td>10866.00</td>\n",
       "      <td>10866.00</td>\n",
       "      <td>10866.00</td>\n",
       "      <td>10866.00</td>\n",
       "      <td>10866.00</td>\n",
       "      <td>10866.00</td>\n",
       "      <td>10866.00</td>\n",
       "      <td>10866.00</td>\n",
       "      <td>10866.00</td>\n",
       "    </tr>\n",
       "    <tr>\n",
       "      <th>mean</th>\n",
       "      <td>66064.18</td>\n",
       "      <td>0.65</td>\n",
       "      <td>14625701.09</td>\n",
       "      <td>39823319.79</td>\n",
       "      <td>102.07</td>\n",
       "      <td>217.39</td>\n",
       "      <td>5.97</td>\n",
       "      <td>2001.32</td>\n",
       "      <td>17551039.82</td>\n",
       "      <td>51364363.25</td>\n",
       "    </tr>\n",
       "    <tr>\n",
       "      <th>std</th>\n",
       "      <td>92130.14</td>\n",
       "      <td>1.00</td>\n",
       "      <td>30913213.83</td>\n",
       "      <td>117003486.58</td>\n",
       "      <td>31.38</td>\n",
       "      <td>575.62</td>\n",
       "      <td>0.94</td>\n",
       "      <td>12.81</td>\n",
       "      <td>34306155.72</td>\n",
       "      <td>144632485.04</td>\n",
       "    </tr>\n",
       "    <tr>\n",
       "      <th>min</th>\n",
       "      <td>5.00</td>\n",
       "      <td>0.00</td>\n",
       "      <td>0.00</td>\n",
       "      <td>0.00</td>\n",
       "      <td>0.00</td>\n",
       "      <td>10.00</td>\n",
       "      <td>1.50</td>\n",
       "      <td>1960.00</td>\n",
       "      <td>0.00</td>\n",
       "      <td>0.00</td>\n",
       "    </tr>\n",
       "    <tr>\n",
       "      <th>25%</th>\n",
       "      <td>10596.25</td>\n",
       "      <td>0.21</td>\n",
       "      <td>0.00</td>\n",
       "      <td>0.00</td>\n",
       "      <td>90.00</td>\n",
       "      <td>17.00</td>\n",
       "      <td>5.40</td>\n",
       "      <td>1995.00</td>\n",
       "      <td>0.00</td>\n",
       "      <td>0.00</td>\n",
       "    </tr>\n",
       "    <tr>\n",
       "      <th>50%</th>\n",
       "      <td>20669.00</td>\n",
       "      <td>0.38</td>\n",
       "      <td>0.00</td>\n",
       "      <td>0.00</td>\n",
       "      <td>99.00</td>\n",
       "      <td>38.00</td>\n",
       "      <td>6.00</td>\n",
       "      <td>2006.00</td>\n",
       "      <td>0.00</td>\n",
       "      <td>0.00</td>\n",
       "    </tr>\n",
       "    <tr>\n",
       "      <th>75%</th>\n",
       "      <td>75610.00</td>\n",
       "      <td>0.71</td>\n",
       "      <td>15000000.00</td>\n",
       "      <td>24000000.00</td>\n",
       "      <td>111.00</td>\n",
       "      <td>145.75</td>\n",
       "      <td>6.60</td>\n",
       "      <td>2011.00</td>\n",
       "      <td>20853251.08</td>\n",
       "      <td>33697095.72</td>\n",
       "    </tr>\n",
       "    <tr>\n",
       "      <th>max</th>\n",
       "      <td>417859.00</td>\n",
       "      <td>32.99</td>\n",
       "      <td>425000000.00</td>\n",
       "      <td>2781505847.00</td>\n",
       "      <td>900.00</td>\n",
       "      <td>9767.00</td>\n",
       "      <td>9.20</td>\n",
       "      <td>2015.00</td>\n",
       "      <td>425000000.00</td>\n",
       "      <td>2827123750.41</td>\n",
       "    </tr>\n",
       "  </tbody>\n",
       "</table>\n",
       "</div>"
      ],
      "text/plain": [
       "             id  popularity       budget       revenue  runtime  vote_count  \\\n",
       "count  10866.00    10866.00     10866.00      10866.00 10866.00    10866.00   \n",
       "mean   66064.18        0.65  14625701.09   39823319.79   102.07      217.39   \n",
       "std    92130.14        1.00  30913213.83  117003486.58    31.38      575.62   \n",
       "min        5.00        0.00         0.00          0.00     0.00       10.00   \n",
       "25%    10596.25        0.21         0.00          0.00    90.00       17.00   \n",
       "50%    20669.00        0.38         0.00          0.00    99.00       38.00   \n",
       "75%    75610.00        0.71  15000000.00   24000000.00   111.00      145.75   \n",
       "max   417859.00       32.99 425000000.00 2781505847.00   900.00     9767.00   \n",
       "\n",
       "       vote_average  release_year   budget_adj   revenue_adj  \n",
       "count      10866.00      10866.00     10866.00      10866.00  \n",
       "mean           5.97       2001.32  17551039.82   51364363.25  \n",
       "std            0.94         12.81  34306155.72  144632485.04  \n",
       "min            1.50       1960.00         0.00          0.00  \n",
       "25%            5.40       1995.00         0.00          0.00  \n",
       "50%            6.00       2006.00         0.00          0.00  \n",
       "75%            6.60       2011.00  20853251.08   33697095.72  \n",
       "max            9.20       2015.00 425000000.00 2827123750.41  "
      ]
     },
     "execution_count": 6,
     "metadata": {},
     "output_type": "execute_result"
    }
   ],
   "source": [
    "df.describe()"
   ]
  },
  {
   "cell_type": "markdown",
   "metadata": {},
   "source": [
    "**Columns Description**\n",
    "\n",
    "|Columns|Description|\n",
    "|:---|:---|\n",
    "|imdb_id:|ID in IMDB site|\n",
    "|popularity|Metric to help boost search results based on votes, vies, favorites, and votes|\n",
    "|budget|Budget spent on movie when it's made|\n",
    "|revenue|Revenue for the movie when it's released|\n",
    "|original_title|Movie Name|\n",
    "|cast|Cast members|\n",
    "|homepage|Movie site|\n",
    "|director|Movie Director|\n",
    "|tagline|Movie tagline|\n",
    "|keywords|Movie keywords|\n",
    "|overview|Brief movie description|\n",
    "|runtime|Movie duration in minutes|\n",
    "|genres|Movie genre/s|\n",
    "|production_companies|Production company/ies|\n",
    "|release_date|release date (mm/dd/yy)|\n",
    "|vote_count|number of voters|\n",
    "|vote_average|Avg vote (10 point score)|\n",
    "|release_year|Realse year (dddd)|\n",
    "|budget_adj|Budget spent on movie in terms of 2010 dollars, accounting for inflation overtime|\n",
    "|revenue_adj|Revenue for the movie in terms of 2010 dollars, accounting for inflation overtime|\n"
   ]
  },
  {
   "cell_type": "markdown",
   "metadata": {},
   "source": [
    "### Checking for Issues"
   ]
  },
  {
   "cell_type": "code",
   "execution_count": 7,
   "metadata": {},
   "outputs": [
    {
     "data": {
      "text/html": [
       "<div>\n",
       "<style scoped>\n",
       "    .dataframe tbody tr th:only-of-type {\n",
       "        vertical-align: middle;\n",
       "    }\n",
       "\n",
       "    .dataframe tbody tr th {\n",
       "        vertical-align: top;\n",
       "    }\n",
       "\n",
       "    .dataframe thead th {\n",
       "        text-align: right;\n",
       "    }\n",
       "</style>\n",
       "<table border=\"1\" class=\"dataframe\">\n",
       "  <thead>\n",
       "    <tr style=\"text-align: right;\">\n",
       "      <th></th>\n",
       "      <th>id</th>\n",
       "      <th>imdb_id</th>\n",
       "      <th>popularity</th>\n",
       "      <th>budget</th>\n",
       "      <th>revenue</th>\n",
       "      <th>original_title</th>\n",
       "      <th>cast</th>\n",
       "      <th>homepage</th>\n",
       "      <th>director</th>\n",
       "      <th>tagline</th>\n",
       "      <th>...</th>\n",
       "      <th>overview</th>\n",
       "      <th>runtime</th>\n",
       "      <th>genres</th>\n",
       "      <th>production_companies</th>\n",
       "      <th>release_date</th>\n",
       "      <th>vote_count</th>\n",
       "      <th>vote_average</th>\n",
       "      <th>release_year</th>\n",
       "      <th>budget_adj</th>\n",
       "      <th>revenue_adj</th>\n",
       "    </tr>\n",
       "  </thead>\n",
       "  <tbody>\n",
       "    <tr>\n",
       "      <th>2090</th>\n",
       "      <td>42194</td>\n",
       "      <td>tt0411951</td>\n",
       "      <td>0.60</td>\n",
       "      <td>30000000</td>\n",
       "      <td>967000</td>\n",
       "      <td>TEKKEN</td>\n",
       "      <td>Jon Foo|Kelly Overton|Cary-Hiroyuki Tagawa|Ian...</td>\n",
       "      <td>NaN</td>\n",
       "      <td>Dwight H. Little</td>\n",
       "      <td>Survival is no game</td>\n",
       "      <td>...</td>\n",
       "      <td>In the year of 2039, after World Wars destroy ...</td>\n",
       "      <td>92</td>\n",
       "      <td>Crime|Drama|Action|Thriller|Science Fiction</td>\n",
       "      <td>Namco|Light Song Films</td>\n",
       "      <td>3/20/10</td>\n",
       "      <td>110</td>\n",
       "      <td>5.00</td>\n",
       "      <td>2010</td>\n",
       "      <td>30000000.00</td>\n",
       "      <td>967000.00</td>\n",
       "    </tr>\n",
       "  </tbody>\n",
       "</table>\n",
       "<p>1 rows × 21 columns</p>\n",
       "</div>"
      ],
      "text/plain": [
       "         id    imdb_id  popularity    budget  revenue original_title  \\\n",
       "2090  42194  tt0411951        0.60  30000000   967000         TEKKEN   \n",
       "\n",
       "                                                   cast homepage  \\\n",
       "2090  Jon Foo|Kelly Overton|Cary-Hiroyuki Tagawa|Ian...      NaN   \n",
       "\n",
       "              director              tagline  ...  \\\n",
       "2090  Dwight H. Little  Survival is no game  ...   \n",
       "\n",
       "                                               overview runtime  \\\n",
       "2090  In the year of 2039, after World Wars destroy ...      92   \n",
       "\n",
       "                                           genres    production_companies  \\\n",
       "2090  Crime|Drama|Action|Thriller|Science Fiction  Namco|Light Song Films   \n",
       "\n",
       "     release_date vote_count  vote_average  release_year  budget_adj  \\\n",
       "2090      3/20/10        110          5.00          2010 30000000.00   \n",
       "\n",
       "      revenue_adj  \n",
       "2090    967000.00  \n",
       "\n",
       "[1 rows x 21 columns]"
      ]
     },
     "execution_count": 7,
     "metadata": {},
     "output_type": "execute_result"
    }
   ],
   "source": [
    "# Checking dulicate rows\n",
    "df[df.duplicated()]"
   ]
  },
  {
   "cell_type": "code",
   "execution_count": 8,
   "metadata": {
    "scrolled": true
   },
   "outputs": [
    {
     "data": {
      "text/html": [
       "<div>\n",
       "<style scoped>\n",
       "    .dataframe tbody tr th:only-of-type {\n",
       "        vertical-align: middle;\n",
       "    }\n",
       "\n",
       "    .dataframe tbody tr th {\n",
       "        vertical-align: top;\n",
       "    }\n",
       "\n",
       "    .dataframe thead th {\n",
       "        text-align: right;\n",
       "    }\n",
       "</style>\n",
       "<table border=\"1\" class=\"dataframe\">\n",
       "  <thead>\n",
       "    <tr style=\"text-align: right;\">\n",
       "      <th></th>\n",
       "      <th>id</th>\n",
       "      <th>imdb_id</th>\n",
       "      <th>popularity</th>\n",
       "      <th>budget</th>\n",
       "      <th>revenue</th>\n",
       "      <th>original_title</th>\n",
       "      <th>cast</th>\n",
       "      <th>homepage</th>\n",
       "      <th>director</th>\n",
       "      <th>tagline</th>\n",
       "      <th>...</th>\n",
       "      <th>overview</th>\n",
       "      <th>runtime</th>\n",
       "      <th>genres</th>\n",
       "      <th>production_companies</th>\n",
       "      <th>release_date</th>\n",
       "      <th>vote_count</th>\n",
       "      <th>vote_average</th>\n",
       "      <th>release_year</th>\n",
       "      <th>budget_adj</th>\n",
       "      <th>revenue_adj</th>\n",
       "    </tr>\n",
       "  </thead>\n",
       "  <tbody>\n",
       "    <tr>\n",
       "      <th>2089</th>\n",
       "      <td>42194</td>\n",
       "      <td>tt0411951</td>\n",
       "      <td>0.60</td>\n",
       "      <td>30000000</td>\n",
       "      <td>967000</td>\n",
       "      <td>TEKKEN</td>\n",
       "      <td>Jon Foo|Kelly Overton|Cary-Hiroyuki Tagawa|Ian...</td>\n",
       "      <td>NaN</td>\n",
       "      <td>Dwight H. Little</td>\n",
       "      <td>Survival is no game</td>\n",
       "      <td>...</td>\n",
       "      <td>In the year of 2039, after World Wars destroy ...</td>\n",
       "      <td>92</td>\n",
       "      <td>Crime|Drama|Action|Thriller|Science Fiction</td>\n",
       "      <td>Namco|Light Song Films</td>\n",
       "      <td>3/20/10</td>\n",
       "      <td>110</td>\n",
       "      <td>5.00</td>\n",
       "      <td>2010</td>\n",
       "      <td>30000000.00</td>\n",
       "      <td>967000.00</td>\n",
       "    </tr>\n",
       "    <tr>\n",
       "      <th>2090</th>\n",
       "      <td>42194</td>\n",
       "      <td>tt0411951</td>\n",
       "      <td>0.60</td>\n",
       "      <td>30000000</td>\n",
       "      <td>967000</td>\n",
       "      <td>TEKKEN</td>\n",
       "      <td>Jon Foo|Kelly Overton|Cary-Hiroyuki Tagawa|Ian...</td>\n",
       "      <td>NaN</td>\n",
       "      <td>Dwight H. Little</td>\n",
       "      <td>Survival is no game</td>\n",
       "      <td>...</td>\n",
       "      <td>In the year of 2039, after World Wars destroy ...</td>\n",
       "      <td>92</td>\n",
       "      <td>Crime|Drama|Action|Thriller|Science Fiction</td>\n",
       "      <td>Namco|Light Song Films</td>\n",
       "      <td>3/20/10</td>\n",
       "      <td>110</td>\n",
       "      <td>5.00</td>\n",
       "      <td>2010</td>\n",
       "      <td>30000000.00</td>\n",
       "      <td>967000.00</td>\n",
       "    </tr>\n",
       "  </tbody>\n",
       "</table>\n",
       "<p>2 rows × 21 columns</p>\n",
       "</div>"
      ],
      "text/plain": [
       "         id    imdb_id  popularity    budget  revenue original_title  \\\n",
       "2089  42194  tt0411951        0.60  30000000   967000         TEKKEN   \n",
       "2090  42194  tt0411951        0.60  30000000   967000         TEKKEN   \n",
       "\n",
       "                                                   cast homepage  \\\n",
       "2089  Jon Foo|Kelly Overton|Cary-Hiroyuki Tagawa|Ian...      NaN   \n",
       "2090  Jon Foo|Kelly Overton|Cary-Hiroyuki Tagawa|Ian...      NaN   \n",
       "\n",
       "              director              tagline  ...  \\\n",
       "2089  Dwight H. Little  Survival is no game  ...   \n",
       "2090  Dwight H. Little  Survival is no game  ...   \n",
       "\n",
       "                                               overview runtime  \\\n",
       "2089  In the year of 2039, after World Wars destroy ...      92   \n",
       "2090  In the year of 2039, after World Wars destroy ...      92   \n",
       "\n",
       "                                           genres    production_companies  \\\n",
       "2089  Crime|Drama|Action|Thriller|Science Fiction  Namco|Light Song Films   \n",
       "2090  Crime|Drama|Action|Thriller|Science Fiction  Namco|Light Song Films   \n",
       "\n",
       "     release_date vote_count  vote_average  release_year  budget_adj  \\\n",
       "2089      3/20/10        110          5.00          2010 30000000.00   \n",
       "2090      3/20/10        110          5.00          2010 30000000.00   \n",
       "\n",
       "      revenue_adj  \n",
       "2089    967000.00  \n",
       "2090    967000.00  \n",
       "\n",
       "[2 rows x 21 columns]"
      ]
     },
     "execution_count": 8,
     "metadata": {},
     "output_type": "execute_result"
    }
   ],
   "source": [
    "df[df.id==42194]"
   ]
  },
  {
   "cell_type": "code",
   "execution_count": 380,
   "metadata": {},
   "outputs": [
    {
     "data": {
      "text/html": [
       "<div>\n",
       "<style scoped>\n",
       "    .dataframe tbody tr th:only-of-type {\n",
       "        vertical-align: middle;\n",
       "    }\n",
       "\n",
       "    .dataframe tbody tr th {\n",
       "        vertical-align: top;\n",
       "    }\n",
       "\n",
       "    .dataframe thead th {\n",
       "        text-align: right;\n",
       "    }\n",
       "</style>\n",
       "<table border=\"1\" class=\"dataframe\">\n",
       "  <thead>\n",
       "    <tr style=\"text-align: right;\">\n",
       "      <th></th>\n",
       "      <th>id</th>\n",
       "      <th>imdb_id</th>\n",
       "      <th>popularity</th>\n",
       "      <th>budget</th>\n",
       "      <th>revenue</th>\n",
       "      <th>original_title</th>\n",
       "      <th>cast</th>\n",
       "      <th>homepage</th>\n",
       "      <th>director</th>\n",
       "      <th>tagline</th>\n",
       "      <th>...</th>\n",
       "      <th>overview</th>\n",
       "      <th>runtime</th>\n",
       "      <th>genres</th>\n",
       "      <th>production_companies</th>\n",
       "      <th>release_date</th>\n",
       "      <th>vote_count</th>\n",
       "      <th>vote_average</th>\n",
       "      <th>release_year</th>\n",
       "      <th>budget_adj</th>\n",
       "      <th>revenue_adj</th>\n",
       "    </tr>\n",
       "  </thead>\n",
       "  <tbody>\n",
       "    <tr>\n",
       "      <th>92</th>\n",
       "      <td>370687</td>\n",
       "      <td>tt3608646</td>\n",
       "      <td>1.88</td>\n",
       "      <td>0</td>\n",
       "      <td>0</td>\n",
       "      <td>Mythica: The Necromancer</td>\n",
       "      <td>Melanie Stone|Adam Johnson|Kevin Sorbo|Nicola ...</td>\n",
       "      <td>http://www.mythicamovie.com/#!blank/y9ake</td>\n",
       "      <td>A. Todd Smith</td>\n",
       "      <td>NaN</td>\n",
       "      <td>...</td>\n",
       "      <td>Mallister takes Thane prisoner and forces Mare...</td>\n",
       "      <td>0</td>\n",
       "      <td>Fantasy|Action|Adventure</td>\n",
       "      <td>Arrowstorm Entertainment|Camera 40 Productions...</td>\n",
       "      <td>12/19/15</td>\n",
       "      <td>11</td>\n",
       "      <td>5.40</td>\n",
       "      <td>2015</td>\n",
       "      <td>0.00</td>\n",
       "      <td>0.00</td>\n",
       "    </tr>\n",
       "    <tr>\n",
       "      <th>4829</th>\n",
       "      <td>110490</td>\n",
       "      <td>tt1910605</td>\n",
       "      <td>0.14</td>\n",
       "      <td>0</td>\n",
       "      <td>0</td>\n",
       "      <td>Rags</td>\n",
       "      <td>Keke Palmer|Avan Jogia|Drake Bell|Burkely Duff...</td>\n",
       "      <td>NaN</td>\n",
       "      <td>Bille Woodruff</td>\n",
       "      <td>NaN</td>\n",
       "      <td>...</td>\n",
       "      <td>Rags follows the story of Charlie Prince, an o...</td>\n",
       "      <td>0</td>\n",
       "      <td>TV Movie|Comedy|Drama</td>\n",
       "      <td>NaN</td>\n",
       "      <td>5/28/12</td>\n",
       "      <td>24</td>\n",
       "      <td>5.70</td>\n",
       "      <td>2012</td>\n",
       "      <td>0.00</td>\n",
       "      <td>0.00</td>\n",
       "    </tr>\n",
       "    <tr>\n",
       "      <th>1289</th>\n",
       "      <td>286372</td>\n",
       "      <td>tt1791681</td>\n",
       "      <td>0.04</td>\n",
       "      <td>3250000</td>\n",
       "      <td>0</td>\n",
       "      <td>Treehouse</td>\n",
       "      <td>J. Michael Trautmann|Dana Melanie|Daniel Fredr...</td>\n",
       "      <td>http://www.imdb.com/title/tt1791681/</td>\n",
       "      <td>Michael G. Bartlett</td>\n",
       "      <td>No kids allowed</td>\n",
       "      <td>...</td>\n",
       "      <td>A teenage boy discovers the perpetrators of se...</td>\n",
       "      <td>0</td>\n",
       "      <td>Thriller|Horror|Mystery</td>\n",
       "      <td>Tiberius Film</td>\n",
       "      <td>10/20/14</td>\n",
       "      <td>16</td>\n",
       "      <td>3.40</td>\n",
       "      <td>2014</td>\n",
       "      <td>2993545.92</td>\n",
       "      <td>0.00</td>\n",
       "    </tr>\n",
       "  </tbody>\n",
       "</table>\n",
       "<p>3 rows × 21 columns</p>\n",
       "</div>"
      ],
      "text/plain": [
       "          id    imdb_id  popularity   budget  revenue  \\\n",
       "92    370687  tt3608646        1.88        0        0   \n",
       "4829  110490  tt1910605        0.14        0        0   \n",
       "1289  286372  tt1791681        0.04  3250000        0   \n",
       "\n",
       "                original_title  \\\n",
       "92    Mythica: The Necromancer   \n",
       "4829                      Rags   \n",
       "1289                 Treehouse   \n",
       "\n",
       "                                                   cast  \\\n",
       "92    Melanie Stone|Adam Johnson|Kevin Sorbo|Nicola ...   \n",
       "4829  Keke Palmer|Avan Jogia|Drake Bell|Burkely Duff...   \n",
       "1289  J. Michael Trautmann|Dana Melanie|Daniel Fredr...   \n",
       "\n",
       "                                       homepage             director  \\\n",
       "92    http://www.mythicamovie.com/#!blank/y9ake        A. Todd Smith   \n",
       "4829                                        NaN       Bille Woodruff   \n",
       "1289       http://www.imdb.com/title/tt1791681/  Michael G. Bartlett   \n",
       "\n",
       "              tagline  ...                                           overview  \\\n",
       "92                NaN  ...  Mallister takes Thane prisoner and forces Mare...   \n",
       "4829              NaN  ...  Rags follows the story of Charlie Prince, an o...   \n",
       "1289  No kids allowed  ...  A teenage boy discovers the perpetrators of se...   \n",
       "\n",
       "     runtime                    genres  \\\n",
       "92         0  Fantasy|Action|Adventure   \n",
       "4829       0     TV Movie|Comedy|Drama   \n",
       "1289       0   Thriller|Horror|Mystery   \n",
       "\n",
       "                                   production_companies release_date  \\\n",
       "92    Arrowstorm Entertainment|Camera 40 Productions...     12/19/15   \n",
       "4829                                                NaN      5/28/12   \n",
       "1289                                      Tiberius Film     10/20/14   \n",
       "\n",
       "     vote_count  vote_average  release_year  budget_adj  revenue_adj  \n",
       "92           11          5.40          2015        0.00         0.00  \n",
       "4829         24          5.70          2012        0.00         0.00  \n",
       "1289         16          3.40          2014  2993545.92         0.00  \n",
       "\n",
       "[3 rows x 21 columns]"
      ]
     },
     "execution_count": 380,
     "metadata": {},
     "output_type": "execute_result"
    }
   ],
   "source": [
    "# Checking for invalid values\n",
    "df[df.runtime==0].sample(3)"
   ]
  },
  {
   "cell_type": "code",
   "execution_count": 10,
   "metadata": {
    "scrolled": false
   },
   "outputs": [
    {
     "data": {
      "text/html": [
       "<div>\n",
       "<style scoped>\n",
       "    .dataframe tbody tr th:only-of-type {\n",
       "        vertical-align: middle;\n",
       "    }\n",
       "\n",
       "    .dataframe tbody tr th {\n",
       "        vertical-align: top;\n",
       "    }\n",
       "\n",
       "    .dataframe thead th {\n",
       "        text-align: right;\n",
       "    }\n",
       "</style>\n",
       "<table border=\"1\" class=\"dataframe\">\n",
       "  <thead>\n",
       "    <tr style=\"text-align: right;\">\n",
       "      <th></th>\n",
       "      <th>id</th>\n",
       "      <th>imdb_id</th>\n",
       "      <th>popularity</th>\n",
       "      <th>budget</th>\n",
       "      <th>revenue</th>\n",
       "      <th>original_title</th>\n",
       "      <th>cast</th>\n",
       "      <th>homepage</th>\n",
       "      <th>director</th>\n",
       "      <th>tagline</th>\n",
       "      <th>...</th>\n",
       "      <th>overview</th>\n",
       "      <th>runtime</th>\n",
       "      <th>genres</th>\n",
       "      <th>production_companies</th>\n",
       "      <th>release_date</th>\n",
       "      <th>vote_count</th>\n",
       "      <th>vote_average</th>\n",
       "      <th>release_year</th>\n",
       "      <th>budget_adj</th>\n",
       "      <th>revenue_adj</th>\n",
       "    </tr>\n",
       "  </thead>\n",
       "  <tbody>\n",
       "    <tr>\n",
       "      <th>9666</th>\n",
       "      <td>40724</td>\n",
       "      <td>tt0092571</td>\n",
       "      <td>0.30</td>\n",
       "      <td>0</td>\n",
       "      <td>0</td>\n",
       "      <td>Anne of Avonlea</td>\n",
       "      <td>Colleen Dewhurst|Patricia Hamilton|Megan Follo...</td>\n",
       "      <td>NaN</td>\n",
       "      <td>Kevin Sullivan</td>\n",
       "      <td>NaN</td>\n",
       "      <td>...</td>\n",
       "      <td>Anne Shirley, now a schoolteacher, has begun w...</td>\n",
       "      <td>230</td>\n",
       "      <td>Drama|Romance|Family</td>\n",
       "      <td>NaN</td>\n",
       "      <td>5/19/87</td>\n",
       "      <td>17</td>\n",
       "      <td>7.40</td>\n",
       "      <td>1987</td>\n",
       "      <td>0.00</td>\n",
       "      <td>0.00</td>\n",
       "    </tr>\n",
       "    <tr>\n",
       "      <th>5163</th>\n",
       "      <td>192936</td>\n",
       "      <td>tt0287839</td>\n",
       "      <td>0.21</td>\n",
       "      <td>20000000</td>\n",
       "      <td>0</td>\n",
       "      <td>Frank Herbert's Children of Dune</td>\n",
       "      <td>Alec Newman|Susan Sarandon|James McAvoy|Julie ...</td>\n",
       "      <td>NaN</td>\n",
       "      <td>Greg Yaitanes</td>\n",
       "      <td>Born to rule an empire. Destined to tear it ap...</td>\n",
       "      <td>...</td>\n",
       "      <td>The twins of Paul \"Muad'dib\" Atreides become e...</td>\n",
       "      <td>248</td>\n",
       "      <td>Drama|Science Fiction|Fantasy|Adventure</td>\n",
       "      <td>New Amsterdam Entertainment|Blixa Film Product...</td>\n",
       "      <td>3/25/03</td>\n",
       "      <td>35</td>\n",
       "      <td>6.50</td>\n",
       "      <td>2003</td>\n",
       "      <td>23707052.90</td>\n",
       "      <td>0.00</td>\n",
       "    </tr>\n",
       "    <tr>\n",
       "      <th>9867</th>\n",
       "      <td>45267</td>\n",
       "      <td>tt0055805</td>\n",
       "      <td>0.24</td>\n",
       "      <td>126</td>\n",
       "      <td>0</td>\n",
       "      <td>Boccaccio '70</td>\n",
       "      <td>Marisa Solinas|Germano Gilioli|Anita Ekberg|So...</td>\n",
       "      <td>NaN</td>\n",
       "      <td>Vittorio De Sica|Federico Fellini|Luchino Visc...</td>\n",
       "      <td>The First 3-Act Motion Picture Ever Presented!</td>\n",
       "      <td>...</td>\n",
       "      <td>Four directors tell tales of Eros fit for a 19...</td>\n",
       "      <td>208</td>\n",
       "      <td>Fantasy|Drama|Comedy|Romance|Foreign</td>\n",
       "      <td>Cineriz</td>\n",
       "      <td>2/22/62</td>\n",
       "      <td>12</td>\n",
       "      <td>6.50</td>\n",
       "      <td>1962</td>\n",
       "      <td>908.26</td>\n",
       "      <td>0.00</td>\n",
       "    </tr>\n",
       "    <tr>\n",
       "      <th>3141</th>\n",
       "      <td>54102</td>\n",
       "      <td>tt0995832</td>\n",
       "      <td>0.34</td>\n",
       "      <td>0</td>\n",
       "      <td>0</td>\n",
       "      <td>Generation Kill</td>\n",
       "      <td>Alexander SkarsgÃ¥rd|James Ransone|Lee Tergese...</td>\n",
       "      <td>NaN</td>\n",
       "      <td>Susanna White|Simon Cellan Jones</td>\n",
       "      <td>The New Face Of American War</td>\n",
       "      <td>...</td>\n",
       "      <td>Marines prepare to invade Iraq at the beginnin...</td>\n",
       "      <td>470</td>\n",
       "      <td>Drama|War|History</td>\n",
       "      <td>Company Pictures</td>\n",
       "      <td>7/13/08</td>\n",
       "      <td>28</td>\n",
       "      <td>6.60</td>\n",
       "      <td>2008</td>\n",
       "      <td>0.00</td>\n",
       "      <td>0.00</td>\n",
       "    </tr>\n",
       "    <tr>\n",
       "      <th>559</th>\n",
       "      <td>373977</td>\n",
       "      <td>tt4146128</td>\n",
       "      <td>0.03</td>\n",
       "      <td>0</td>\n",
       "      <td>0</td>\n",
       "      <td>Childhood's End</td>\n",
       "      <td>Mike Vogel|Osy Ikhile|Daisy Betts|Georgina Hai...</td>\n",
       "      <td>NaN</td>\n",
       "      <td>Nick Hurran</td>\n",
       "      <td>NaN</td>\n",
       "      <td>...</td>\n",
       "      <td>After peaceful aliens invade earth, humanity f...</td>\n",
       "      <td>246</td>\n",
       "      <td>Thriller|TV Movie|Science Fiction|Drama</td>\n",
       "      <td>NaN</td>\n",
       "      <td>12/14/15</td>\n",
       "      <td>21</td>\n",
       "      <td>6.20</td>\n",
       "      <td>2015</td>\n",
       "      <td>0.00</td>\n",
       "      <td>0.00</td>\n",
       "    </tr>\n",
       "  </tbody>\n",
       "</table>\n",
       "<p>5 rows × 21 columns</p>\n",
       "</div>"
      ],
      "text/plain": [
       "          id    imdb_id  popularity    budget  revenue  \\\n",
       "9666   40724  tt0092571        0.30         0        0   \n",
       "5163  192936  tt0287839        0.21  20000000        0   \n",
       "9867   45267  tt0055805        0.24       126        0   \n",
       "3141   54102  tt0995832        0.34         0        0   \n",
       "559   373977  tt4146128        0.03         0        0   \n",
       "\n",
       "                        original_title  \\\n",
       "9666                   Anne of Avonlea   \n",
       "5163  Frank Herbert's Children of Dune   \n",
       "9867                     Boccaccio '70   \n",
       "3141                   Generation Kill   \n",
       "559                    Childhood's End   \n",
       "\n",
       "                                                   cast homepage  \\\n",
       "9666  Colleen Dewhurst|Patricia Hamilton|Megan Follo...      NaN   \n",
       "5163  Alec Newman|Susan Sarandon|James McAvoy|Julie ...      NaN   \n",
       "9867  Marisa Solinas|Germano Gilioli|Anita Ekberg|So...      NaN   \n",
       "3141  Alexander SkarsgÃ¥rd|James Ransone|Lee Tergese...      NaN   \n",
       "559   Mike Vogel|Osy Ikhile|Daisy Betts|Georgina Hai...      NaN   \n",
       "\n",
       "                                               director  \\\n",
       "9666                                     Kevin Sullivan   \n",
       "5163                                      Greg Yaitanes   \n",
       "9867  Vittorio De Sica|Federico Fellini|Luchino Visc...   \n",
       "3141                   Susanna White|Simon Cellan Jones   \n",
       "559                                         Nick Hurran   \n",
       "\n",
       "                                                tagline  ...  \\\n",
       "9666                                                NaN  ...   \n",
       "5163  Born to rule an empire. Destined to tear it ap...  ...   \n",
       "9867     The First 3-Act Motion Picture Ever Presented!  ...   \n",
       "3141                       The New Face Of American War  ...   \n",
       "559                                                 NaN  ...   \n",
       "\n",
       "                                               overview runtime  \\\n",
       "9666  Anne Shirley, now a schoolteacher, has begun w...     230   \n",
       "5163  The twins of Paul \"Muad'dib\" Atreides become e...     248   \n",
       "9867  Four directors tell tales of Eros fit for a 19...     208   \n",
       "3141  Marines prepare to invade Iraq at the beginnin...     470   \n",
       "559   After peaceful aliens invade earth, humanity f...     246   \n",
       "\n",
       "                                       genres  \\\n",
       "9666                     Drama|Romance|Family   \n",
       "5163  Drama|Science Fiction|Fantasy|Adventure   \n",
       "9867     Fantasy|Drama|Comedy|Romance|Foreign   \n",
       "3141                        Drama|War|History   \n",
       "559   Thriller|TV Movie|Science Fiction|Drama   \n",
       "\n",
       "                                   production_companies release_date  \\\n",
       "9666                                                NaN      5/19/87   \n",
       "5163  New Amsterdam Entertainment|Blixa Film Product...      3/25/03   \n",
       "9867                                            Cineriz      2/22/62   \n",
       "3141                                   Company Pictures      7/13/08   \n",
       "559                                                 NaN     12/14/15   \n",
       "\n",
       "     vote_count  vote_average  release_year  budget_adj  revenue_adj  \n",
       "9666         17          7.40          1987        0.00         0.00  \n",
       "5163         35          6.50          2003 23707052.90         0.00  \n",
       "9867         12          6.50          1962      908.26         0.00  \n",
       "3141         28          6.60          2008        0.00         0.00  \n",
       "559          21          6.20          2015        0.00         0.00  \n",
       "\n",
       "[5 rows x 21 columns]"
      ]
     },
     "execution_count": 10,
     "metadata": {},
     "output_type": "execute_result"
    }
   ],
   "source": [
    "df[df.runtime>200].sample(5)"
   ]
  },
  {
   "cell_type": "code",
   "execution_count": 11,
   "metadata": {},
   "outputs": [
    {
     "data": {
      "text/html": [
       "<div>\n",
       "<style scoped>\n",
       "    .dataframe tbody tr th:only-of-type {\n",
       "        vertical-align: middle;\n",
       "    }\n",
       "\n",
       "    .dataframe tbody tr th {\n",
       "        vertical-align: top;\n",
       "    }\n",
       "\n",
       "    .dataframe thead th {\n",
       "        text-align: right;\n",
       "    }\n",
       "</style>\n",
       "<table border=\"1\" class=\"dataframe\">\n",
       "  <thead>\n",
       "    <tr style=\"text-align: right;\">\n",
       "      <th></th>\n",
       "      <th>id</th>\n",
       "      <th>imdb_id</th>\n",
       "      <th>popularity</th>\n",
       "      <th>budget</th>\n",
       "      <th>revenue</th>\n",
       "      <th>original_title</th>\n",
       "      <th>cast</th>\n",
       "      <th>homepage</th>\n",
       "      <th>director</th>\n",
       "      <th>tagline</th>\n",
       "      <th>...</th>\n",
       "      <th>overview</th>\n",
       "      <th>runtime</th>\n",
       "      <th>genres</th>\n",
       "      <th>production_companies</th>\n",
       "      <th>release_date</th>\n",
       "      <th>vote_count</th>\n",
       "      <th>vote_average</th>\n",
       "      <th>release_year</th>\n",
       "      <th>budget_adj</th>\n",
       "      <th>revenue_adj</th>\n",
       "    </tr>\n",
       "  </thead>\n",
       "  <tbody>\n",
       "    <tr>\n",
       "      <th>3894</th>\n",
       "      <td>125336</td>\n",
       "      <td>tt2044056</td>\n",
       "      <td>0.01</td>\n",
       "      <td>0</td>\n",
       "      <td>0</td>\n",
       "      <td>The Story of Film: An Odyssey</td>\n",
       "      <td>Mark Cousins|Jean-Michel Frodon|Cari Beauchamp...</td>\n",
       "      <td>http://www.channel4.com/programmes/the-story-o...</td>\n",
       "      <td>Mark Cousins</td>\n",
       "      <td>NaN</td>\n",
       "      <td>...</td>\n",
       "      <td>The Story of Film: An Odyssey, written and dir...</td>\n",
       "      <td>900</td>\n",
       "      <td>Documentary</td>\n",
       "      <td>NaN</td>\n",
       "      <td>9/3/11</td>\n",
       "      <td>14</td>\n",
       "      <td>9.20</td>\n",
       "      <td>2011</td>\n",
       "      <td>0.00</td>\n",
       "      <td>0.00</td>\n",
       "    </tr>\n",
       "  </tbody>\n",
       "</table>\n",
       "<p>1 rows × 21 columns</p>\n",
       "</div>"
      ],
      "text/plain": [
       "          id    imdb_id  popularity  budget  revenue  \\\n",
       "3894  125336  tt2044056        0.01       0        0   \n",
       "\n",
       "                     original_title  \\\n",
       "3894  The Story of Film: An Odyssey   \n",
       "\n",
       "                                                   cast  \\\n",
       "3894  Mark Cousins|Jean-Michel Frodon|Cari Beauchamp...   \n",
       "\n",
       "                                               homepage      director tagline  \\\n",
       "3894  http://www.channel4.com/programmes/the-story-o...  Mark Cousins     NaN   \n",
       "\n",
       "      ...                                           overview runtime  \\\n",
       "3894  ...  The Story of Film: An Odyssey, written and dir...     900   \n",
       "\n",
       "           genres production_companies release_date vote_count  vote_average  \\\n",
       "3894  Documentary                  NaN       9/3/11         14          9.20   \n",
       "\n",
       "      release_year  budget_adj  revenue_adj  \n",
       "3894          2011        0.00         0.00  \n",
       "\n",
       "[1 rows x 21 columns]"
      ]
     },
     "execution_count": 11,
     "metadata": {},
     "output_type": "execute_result"
    }
   ],
   "source": [
    "df[df.runtime==900]"
   ]
  },
  {
   "cell_type": "code",
   "execution_count": 12,
   "metadata": {},
   "outputs": [
    {
     "data": {
      "text/plain": [
       "5.0"
      ]
     },
     "execution_count": 12,
     "metadata": {},
     "output_type": "execute_result"
    }
   ],
   "source": [
    "# Checking the max number of genres per movie\n",
    "max(df.genres.str.count('\\|')+1)"
   ]
  },
  {
   "cell_type": "code",
   "execution_count": 13,
   "metadata": {},
   "outputs": [
    {
     "data": {
      "text/plain": [
       "1.0"
      ]
     },
     "execution_count": 13,
     "metadata": {},
     "output_type": "execute_result"
    }
   ],
   "source": [
    "# Checking the min number of genres per movie\n",
    "min(df.genres.str.count('\\|')+1)"
   ]
  },
  {
   "cell_type": "code",
   "execution_count": 14,
   "metadata": {},
   "outputs": [
    {
     "data": {
      "text/plain": [
       "5.0"
      ]
     },
     "execution_count": 14,
     "metadata": {},
     "output_type": "execute_result"
    }
   ],
   "source": [
    "# Checking the max number of cast member per movie\n",
    "max(df.cast.str.count('\\|')+1)"
   ]
  },
  {
   "cell_type": "code",
   "execution_count": 15,
   "metadata": {},
   "outputs": [
    {
     "data": {
      "text/plain": [
       "1.0"
      ]
     },
     "execution_count": 15,
     "metadata": {},
     "output_type": "execute_result"
    }
   ],
   "source": [
    "# Checking the min number of cast member per movie\n",
    "min(df.cast.str.count('\\|')+1)"
   ]
  },
  {
   "cell_type": "markdown",
   "metadata": {},
   "source": [
    "### Data Cleaning"
   ]
  },
  {
   "cell_type": "markdown",
   "metadata": {
    "collapsed": true
   },
   "source": [
    "**Data issues**\n",
    "- Remove redundant columns, 20 columns are too much to explore\n",
    "- Drop duplicated row (1)\n",
    "- Solve runtime, revenue, budget 0 values\n",
    "- Genres column have multiple values in one cell"
   ]
  },
  {
   "cell_type": "code",
   "execution_count": 16,
   "metadata": {},
   "outputs": [],
   "source": [
    "# copy of original dataframe\n",
    "df_clean = df.copy()"
   ]
  },
  {
   "cell_type": "markdown",
   "metadata": {},
   "source": [
    "#### Remove redundant columns"
   ]
  },
  {
   "cell_type": "code",
   "execution_count": 17,
   "metadata": {},
   "outputs": [
    {
     "data": {
      "text/plain": [
       "Index(['id', 'imdb_id', 'popularity', 'budget', 'revenue', 'original_title',\n",
       "       'cast', 'homepage', 'director', 'tagline', 'keywords', 'overview',\n",
       "       'runtime', 'genres', 'production_companies', 'release_date',\n",
       "       'vote_count', 'vote_average', 'release_year', 'budget_adj',\n",
       "       'revenue_adj'],\n",
       "      dtype='object')"
      ]
     },
     "execution_count": 17,
     "metadata": {},
     "output_type": "execute_result"
    }
   ],
   "source": [
    "df_clean.columns"
   ]
  },
  {
   "cell_type": "code",
   "execution_count": 18,
   "metadata": {},
   "outputs": [],
   "source": [
    "drop_columns = ['imdb_id', 'popularity','budget', \n",
    "                'revenue', 'cast', 'homepage', \n",
    "                'director', 'tagline', 'keywords', \n",
    "                'overview', 'release_date', 'vote_count']\n",
    "df_clean.drop(drop_columns, axis=1, inplace=True)"
   ]
  },
  {
   "cell_type": "code",
   "execution_count": 19,
   "metadata": {},
   "outputs": [
    {
     "name": "stdout",
     "output_type": "stream",
     "text": [
      "<class 'pandas.core.frame.DataFrame'>\n",
      "RangeIndex: 10866 entries, 0 to 10865\n",
      "Data columns (total 9 columns):\n",
      " #   Column                Non-Null Count  Dtype  \n",
      "---  ------                --------------  -----  \n",
      " 0   id                    10866 non-null  int64  \n",
      " 1   original_title        10866 non-null  object \n",
      " 2   runtime               10866 non-null  int64  \n",
      " 3   genres                10843 non-null  object \n",
      " 4   production_companies  9836 non-null   object \n",
      " 5   vote_average          10866 non-null  float64\n",
      " 6   release_year          10866 non-null  int64  \n",
      " 7   budget_adj            10866 non-null  float64\n",
      " 8   revenue_adj           10866 non-null  float64\n",
      "dtypes: float64(3), int64(3), object(3)\n",
      "memory usage: 764.1+ KB\n"
     ]
    }
   ],
   "source": [
    "df_clean.info()"
   ]
  },
  {
   "cell_type": "markdown",
   "metadata": {},
   "source": [
    "#### Drop duplicated row"
   ]
  },
  {
   "cell_type": "code",
   "execution_count": 20,
   "metadata": {},
   "outputs": [
    {
     "data": {
      "text/plain": [
       "1"
      ]
     },
     "execution_count": 20,
     "metadata": {},
     "output_type": "execute_result"
    }
   ],
   "source": [
    "df_clean.duplicated().sum()"
   ]
  },
  {
   "cell_type": "code",
   "execution_count": 21,
   "metadata": {},
   "outputs": [],
   "source": [
    "df_clean.drop_duplicates(inplace=True)"
   ]
  },
  {
   "cell_type": "code",
   "execution_count": 22,
   "metadata": {},
   "outputs": [
    {
     "data": {
      "text/plain": [
       "0"
      ]
     },
     "execution_count": 22,
     "metadata": {},
     "output_type": "execute_result"
    }
   ],
   "source": [
    "df_clean.duplicated().sum()"
   ]
  },
  {
   "cell_type": "markdown",
   "metadata": {},
   "source": [
    "#### Solve runtime, revenue_adj, budget_adj low values"
   ]
  },
  {
   "cell_type": "markdown",
   "metadata": {},
   "source": [
    "**runtime**  \n",
    "only 0 runtime will be addressed, as this clearly missing info.  \n",
    "other small values are most likely true"
   ]
  },
  {
   "cell_type": "code",
   "execution_count": 23,
   "metadata": {},
   "outputs": [
    {
     "data": {
      "text/plain": [
       "31"
      ]
     },
     "execution_count": 23,
     "metadata": {},
     "output_type": "execute_result"
    }
   ],
   "source": [
    "df_clean[df_clean.runtime==0].id.count()"
   ]
  },
  {
   "cell_type": "code",
   "execution_count": 24,
   "metadata": {},
   "outputs": [],
   "source": [
    "# runtime with 0 value is so low, it can be safely dropped\n",
    "df_clean = df_clean[df_clean.runtime!=0]"
   ]
  },
  {
   "cell_type": "code",
   "execution_count": 25,
   "metadata": {},
   "outputs": [
    {
     "data": {
      "text/plain": [
       "0"
      ]
     },
     "execution_count": 25,
     "metadata": {},
     "output_type": "execute_result"
    }
   ],
   "source": [
    "df_clean[df_clean.runtime==0].id.count()"
   ]
  },
  {
   "cell_type": "markdown",
   "metadata": {},
   "source": [
    "**budget_adj**  \n",
    "all low budget values will be replaced with np.nan as it's illogical and are skewing the statistical measures too much. "
   ]
  },
  {
   "cell_type": "code",
   "execution_count": 26,
   "metadata": {},
   "outputs": [
    {
     "data": {
      "text/plain": [
       "5726"
      ]
     },
     "execution_count": 26,
     "metadata": {},
     "output_type": "execute_result"
    }
   ],
   "source": [
    "df_clean[df_clean.budget_adj < 1000].id.count()"
   ]
  },
  {
   "cell_type": "code",
   "execution_count": 27,
   "metadata": {},
   "outputs": [
    {
     "data": {
      "text/plain": [
       "id                                                                 280996\n",
       "original_title                                                 Mr. Holmes\n",
       "runtime                                                               103\n",
       "genres                                                      Mystery|Drama\n",
       "production_companies    BBC Films|See-Saw Films|FilmNation Entertainme...\n",
       "vote_average                                                         6.40\n",
       "release_year                                                         2015\n",
       "budget_adj                                                           0.00\n",
       "revenue_adj                                                   27006774.88\n",
       "Name: 30, dtype: object"
      ]
     },
     "execution_count": 27,
     "metadata": {},
     "output_type": "execute_result"
    }
   ],
   "source": [
    "df_clean.loc[30]"
   ]
  },
  {
   "cell_type": "code",
   "execution_count": 28,
   "metadata": {},
   "outputs": [
    {
     "data": {
      "text/html": [
       "<div>\n",
       "<style scoped>\n",
       "    .dataframe tbody tr th:only-of-type {\n",
       "        vertical-align: middle;\n",
       "    }\n",
       "\n",
       "    .dataframe tbody tr th {\n",
       "        vertical-align: top;\n",
       "    }\n",
       "\n",
       "    .dataframe thead th {\n",
       "        text-align: right;\n",
       "    }\n",
       "</style>\n",
       "<table border=\"1\" class=\"dataframe\">\n",
       "  <thead>\n",
       "    <tr style=\"text-align: right;\">\n",
       "      <th></th>\n",
       "      <th>id</th>\n",
       "      <th>runtime</th>\n",
       "      <th>vote_average</th>\n",
       "      <th>release_year</th>\n",
       "      <th>budget_adj</th>\n",
       "      <th>revenue_adj</th>\n",
       "    </tr>\n",
       "  </thead>\n",
       "  <tbody>\n",
       "    <tr>\n",
       "      <th>count</th>\n",
       "      <td>10834.00</td>\n",
       "      <td>10834.00</td>\n",
       "      <td>10834.00</td>\n",
       "      <td>10834.00</td>\n",
       "      <td>10834.00</td>\n",
       "      <td>10834.00</td>\n",
       "    </tr>\n",
       "    <tr>\n",
       "      <th>mean</th>\n",
       "      <td>65750.13</td>\n",
       "      <td>102.36</td>\n",
       "      <td>5.98</td>\n",
       "      <td>2001.30</td>\n",
       "      <td>17598956.85</td>\n",
       "      <td>51515987.09</td>\n",
       "    </tr>\n",
       "    <tr>\n",
       "      <th>std</th>\n",
       "      <td>91819.99</td>\n",
       "      <td>30.95</td>\n",
       "      <td>0.94</td>\n",
       "      <td>12.82</td>\n",
       "      <td>34344214.71</td>\n",
       "      <td>144818992.37</td>\n",
       "    </tr>\n",
       "    <tr>\n",
       "      <th>min</th>\n",
       "      <td>5.00</td>\n",
       "      <td>2.00</td>\n",
       "      <td>1.50</td>\n",
       "      <td>1960.00</td>\n",
       "      <td>0.00</td>\n",
       "      <td>0.00</td>\n",
       "    </tr>\n",
       "    <tr>\n",
       "      <th>25%</th>\n",
       "      <td>10586.25</td>\n",
       "      <td>90.00</td>\n",
       "      <td>5.40</td>\n",
       "      <td>1995.00</td>\n",
       "      <td>0.00</td>\n",
       "      <td>0.00</td>\n",
       "    </tr>\n",
       "    <tr>\n",
       "      <th>50%</th>\n",
       "      <td>20551.00</td>\n",
       "      <td>99.00</td>\n",
       "      <td>6.00</td>\n",
       "      <td>2006.00</td>\n",
       "      <td>0.00</td>\n",
       "      <td>0.00</td>\n",
       "    </tr>\n",
       "    <tr>\n",
       "      <th>75%</th>\n",
       "      <td>75055.00</td>\n",
       "      <td>112.00</td>\n",
       "      <td>6.60</td>\n",
       "      <td>2011.00</td>\n",
       "      <td>20942458.66</td>\n",
       "      <td>33896668.98</td>\n",
       "    </tr>\n",
       "    <tr>\n",
       "      <th>max</th>\n",
       "      <td>417859.00</td>\n",
       "      <td>900.00</td>\n",
       "      <td>9.20</td>\n",
       "      <td>2015.00</td>\n",
       "      <td>425000000.00</td>\n",
       "      <td>2827123750.41</td>\n",
       "    </tr>\n",
       "  </tbody>\n",
       "</table>\n",
       "</div>"
      ],
      "text/plain": [
       "             id  runtime  vote_average  release_year   budget_adj  \\\n",
       "count  10834.00 10834.00      10834.00      10834.00     10834.00   \n",
       "mean   65750.13   102.36          5.98       2001.30  17598956.85   \n",
       "std    91819.99    30.95          0.94         12.82  34344214.71   \n",
       "min        5.00     2.00          1.50       1960.00         0.00   \n",
       "25%    10586.25    90.00          5.40       1995.00         0.00   \n",
       "50%    20551.00    99.00          6.00       2006.00         0.00   \n",
       "75%    75055.00   112.00          6.60       2011.00  20942458.66   \n",
       "max   417859.00   900.00          9.20       2015.00 425000000.00   \n",
       "\n",
       "        revenue_adj  \n",
       "count      10834.00  \n",
       "mean    51515987.09  \n",
       "std    144818992.37  \n",
       "min            0.00  \n",
       "25%            0.00  \n",
       "50%            0.00  \n",
       "75%     33896668.98  \n",
       "max   2827123750.41  "
      ]
     },
     "execution_count": 28,
     "metadata": {},
     "output_type": "execute_result"
    }
   ],
   "source": [
    "df_clean.describe()"
   ]
  },
  {
   "cell_type": "code",
   "execution_count": 29,
   "metadata": {},
   "outputs": [],
   "source": [
    "# low revenue and budget values are too much to be dropped, will be filled with NA\n",
    "# Leaving it 0 affect the average and min values\n",
    "df_clean['budget_adj'] = df_clean['budget_adj'].apply(lambda x: np.nan if x<1000 else x)"
   ]
  },
  {
   "cell_type": "code",
   "execution_count": 30,
   "metadata": {},
   "outputs": [
    {
     "data": {
      "text/plain": [
       "5108"
      ]
     },
     "execution_count": 30,
     "metadata": {},
     "output_type": "execute_result"
    }
   ],
   "source": [
    "df_clean.budget_adj.count()"
   ]
  },
  {
   "cell_type": "code",
   "execution_count": 31,
   "metadata": {},
   "outputs": [
    {
     "data": {
      "text/plain": [
       "0"
      ]
     },
     "execution_count": 31,
     "metadata": {},
     "output_type": "execute_result"
    }
   ],
   "source": [
    "df_clean[df_clean.budget_adj < 0].id.count()"
   ]
  },
  {
   "cell_type": "markdown",
   "metadata": {},
   "source": [
    "**revenue**  \n",
    "same as budget, but will adress 0 values only, as some movies might actually produce revenue so small (<1000 USD)"
   ]
  },
  {
   "cell_type": "code",
   "execution_count": 32,
   "metadata": {},
   "outputs": [
    {
     "data": {
      "text/plain": [
       "5985"
      ]
     },
     "execution_count": 32,
     "metadata": {},
     "output_type": "execute_result"
    }
   ],
   "source": [
    "df_clean[df_clean.revenue_adj == 0].id.count()"
   ]
  },
  {
   "cell_type": "code",
   "execution_count": 33,
   "metadata": {},
   "outputs": [],
   "source": [
    "df_clean['revenue_adj'].replace(0, np.nan, inplace=True)"
   ]
  },
  {
   "cell_type": "code",
   "execution_count": 34,
   "metadata": {},
   "outputs": [
    {
     "data": {
      "text/html": [
       "<div>\n",
       "<style scoped>\n",
       "    .dataframe tbody tr th:only-of-type {\n",
       "        vertical-align: middle;\n",
       "    }\n",
       "\n",
       "    .dataframe tbody tr th {\n",
       "        vertical-align: top;\n",
       "    }\n",
       "\n",
       "    .dataframe thead th {\n",
       "        text-align: right;\n",
       "    }\n",
       "</style>\n",
       "<table border=\"1\" class=\"dataframe\">\n",
       "  <thead>\n",
       "    <tr style=\"text-align: right;\">\n",
       "      <th></th>\n",
       "      <th>id</th>\n",
       "      <th>runtime</th>\n",
       "      <th>vote_average</th>\n",
       "      <th>release_year</th>\n",
       "      <th>budget_adj</th>\n",
       "      <th>revenue_adj</th>\n",
       "    </tr>\n",
       "  </thead>\n",
       "  <tbody>\n",
       "    <tr>\n",
       "      <th>count</th>\n",
       "      <td>10834.00</td>\n",
       "      <td>10834.00</td>\n",
       "      <td>10834.00</td>\n",
       "      <td>10834.00</td>\n",
       "      <td>5108.00</td>\n",
       "      <td>4849.00</td>\n",
       "    </tr>\n",
       "    <tr>\n",
       "      <th>mean</th>\n",
       "      <td>65750.13</td>\n",
       "      <td>102.36</td>\n",
       "      <td>5.98</td>\n",
       "      <td>2001.30</td>\n",
       "      <td>37327151.85</td>\n",
       "      <td>115100887.63</td>\n",
       "    </tr>\n",
       "    <tr>\n",
       "      <th>std</th>\n",
       "      <td>91819.99</td>\n",
       "      <td>30.95</td>\n",
       "      <td>0.94</td>\n",
       "      <td>12.82</td>\n",
       "      <td>42017548.78</td>\n",
       "      <td>198855667.98</td>\n",
       "    </tr>\n",
       "    <tr>\n",
       "      <th>min</th>\n",
       "      <td>5.00</td>\n",
       "      <td>2.00</td>\n",
       "      <td>1.50</td>\n",
       "      <td>1960.00</td>\n",
       "      <td>1307.35</td>\n",
       "      <td>2.37</td>\n",
       "    </tr>\n",
       "    <tr>\n",
       "      <th>25%</th>\n",
       "      <td>10586.25</td>\n",
       "      <td>90.00</td>\n",
       "      <td>5.40</td>\n",
       "      <td>1995.00</td>\n",
       "      <td>8608686.39</td>\n",
       "      <td>10465848.09</td>\n",
       "    </tr>\n",
       "    <tr>\n",
       "      <th>50%</th>\n",
       "      <td>20551.00</td>\n",
       "      <td>99.00</td>\n",
       "      <td>6.00</td>\n",
       "      <td>2006.00</td>\n",
       "      <td>23088908.00</td>\n",
       "      <td>43956661.16</td>\n",
       "    </tr>\n",
       "    <tr>\n",
       "      <th>75%</th>\n",
       "      <td>75055.00</td>\n",
       "      <td>112.00</td>\n",
       "      <td>6.60</td>\n",
       "      <td>2011.00</td>\n",
       "      <td>50456518.10</td>\n",
       "      <td>131648235.91</td>\n",
       "    </tr>\n",
       "    <tr>\n",
       "      <th>max</th>\n",
       "      <td>417859.00</td>\n",
       "      <td>900.00</td>\n",
       "      <td>9.20</td>\n",
       "      <td>2015.00</td>\n",
       "      <td>425000000.00</td>\n",
       "      <td>2827123750.41</td>\n",
       "    </tr>\n",
       "  </tbody>\n",
       "</table>\n",
       "</div>"
      ],
      "text/plain": [
       "             id  runtime  vote_average  release_year   budget_adj  \\\n",
       "count  10834.00 10834.00      10834.00      10834.00      5108.00   \n",
       "mean   65750.13   102.36          5.98       2001.30  37327151.85   \n",
       "std    91819.99    30.95          0.94         12.82  42017548.78   \n",
       "min        5.00     2.00          1.50       1960.00      1307.35   \n",
       "25%    10586.25    90.00          5.40       1995.00   8608686.39   \n",
       "50%    20551.00    99.00          6.00       2006.00  23088908.00   \n",
       "75%    75055.00   112.00          6.60       2011.00  50456518.10   \n",
       "max   417859.00   900.00          9.20       2015.00 425000000.00   \n",
       "\n",
       "        revenue_adj  \n",
       "count       4849.00  \n",
       "mean   115100887.63  \n",
       "std    198855667.98  \n",
       "min            2.37  \n",
       "25%     10465848.09  \n",
       "50%     43956661.16  \n",
       "75%    131648235.91  \n",
       "max   2827123750.41  "
      ]
     },
     "execution_count": 34,
     "metadata": {},
     "output_type": "execute_result"
    }
   ],
   "source": [
    "df_clean.describe()"
   ]
  },
  {
   "cell_type": "markdown",
   "metadata": {},
   "source": [
    "#### Genres splitting\n",
    "Split genres values into multiple rows, split into a new dataframe and preserve the original format"
   ]
  },
  {
   "cell_type": "code",
   "execution_count": 35,
   "metadata": {},
   "outputs": [],
   "source": [
    "df_genres = df_clean.copy()"
   ]
  },
  {
   "cell_type": "code",
   "execution_count": 36,
   "metadata": {},
   "outputs": [],
   "source": [
    "df_genres = df_genres.assign(genres=df_genres.genres.str.split('|')).explode('genres')"
   ]
  },
  {
   "cell_type": "code",
   "execution_count": 37,
   "metadata": {},
   "outputs": [
    {
     "data": {
      "text/html": [
       "<div>\n",
       "<style scoped>\n",
       "    .dataframe tbody tr th:only-of-type {\n",
       "        vertical-align: middle;\n",
       "    }\n",
       "\n",
       "    .dataframe tbody tr th {\n",
       "        vertical-align: top;\n",
       "    }\n",
       "\n",
       "    .dataframe thead th {\n",
       "        text-align: right;\n",
       "    }\n",
       "</style>\n",
       "<table border=\"1\" class=\"dataframe\">\n",
       "  <thead>\n",
       "    <tr style=\"text-align: right;\">\n",
       "      <th></th>\n",
       "      <th>id</th>\n",
       "      <th>original_title</th>\n",
       "      <th>runtime</th>\n",
       "      <th>genres</th>\n",
       "      <th>production_companies</th>\n",
       "      <th>vote_average</th>\n",
       "      <th>release_year</th>\n",
       "      <th>budget_adj</th>\n",
       "      <th>revenue_adj</th>\n",
       "    </tr>\n",
       "  </thead>\n",
       "  <tbody>\n",
       "    <tr>\n",
       "      <th>0</th>\n",
       "      <td>135397</td>\n",
       "      <td>Jurassic World</td>\n",
       "      <td>124</td>\n",
       "      <td>Action</td>\n",
       "      <td>Universal Studios|Amblin Entertainment|Legenda...</td>\n",
       "      <td>6.50</td>\n",
       "      <td>2015</td>\n",
       "      <td>137999939.28</td>\n",
       "      <td>1392445892.52</td>\n",
       "    </tr>\n",
       "    <tr>\n",
       "      <th>0</th>\n",
       "      <td>135397</td>\n",
       "      <td>Jurassic World</td>\n",
       "      <td>124</td>\n",
       "      <td>Adventure</td>\n",
       "      <td>Universal Studios|Amblin Entertainment|Legenda...</td>\n",
       "      <td>6.50</td>\n",
       "      <td>2015</td>\n",
       "      <td>137999939.28</td>\n",
       "      <td>1392445892.52</td>\n",
       "    </tr>\n",
       "    <tr>\n",
       "      <th>0</th>\n",
       "      <td>135397</td>\n",
       "      <td>Jurassic World</td>\n",
       "      <td>124</td>\n",
       "      <td>Science Fiction</td>\n",
       "      <td>Universal Studios|Amblin Entertainment|Legenda...</td>\n",
       "      <td>6.50</td>\n",
       "      <td>2015</td>\n",
       "      <td>137999939.28</td>\n",
       "      <td>1392445892.52</td>\n",
       "    </tr>\n",
       "    <tr>\n",
       "      <th>0</th>\n",
       "      <td>135397</td>\n",
       "      <td>Jurassic World</td>\n",
       "      <td>124</td>\n",
       "      <td>Thriller</td>\n",
       "      <td>Universal Studios|Amblin Entertainment|Legenda...</td>\n",
       "      <td>6.50</td>\n",
       "      <td>2015</td>\n",
       "      <td>137999939.28</td>\n",
       "      <td>1392445892.52</td>\n",
       "    </tr>\n",
       "    <tr>\n",
       "      <th>1</th>\n",
       "      <td>76341</td>\n",
       "      <td>Mad Max: Fury Road</td>\n",
       "      <td>120</td>\n",
       "      <td>Action</td>\n",
       "      <td>Village Roadshow Pictures|Kennedy Miller Produ...</td>\n",
       "      <td>7.10</td>\n",
       "      <td>2015</td>\n",
       "      <td>137999939.28</td>\n",
       "      <td>348161292.49</td>\n",
       "    </tr>\n",
       "  </tbody>\n",
       "</table>\n",
       "</div>"
      ],
      "text/plain": [
       "       id      original_title  runtime           genres  \\\n",
       "0  135397      Jurassic World      124           Action   \n",
       "0  135397      Jurassic World      124        Adventure   \n",
       "0  135397      Jurassic World      124  Science Fiction   \n",
       "0  135397      Jurassic World      124         Thriller   \n",
       "1   76341  Mad Max: Fury Road      120           Action   \n",
       "\n",
       "                                production_companies  vote_average  \\\n",
       "0  Universal Studios|Amblin Entertainment|Legenda...          6.50   \n",
       "0  Universal Studios|Amblin Entertainment|Legenda...          6.50   \n",
       "0  Universal Studios|Amblin Entertainment|Legenda...          6.50   \n",
       "0  Universal Studios|Amblin Entertainment|Legenda...          6.50   \n",
       "1  Village Roadshow Pictures|Kennedy Miller Produ...          7.10   \n",
       "\n",
       "   release_year   budget_adj   revenue_adj  \n",
       "0          2015 137999939.28 1392445892.52  \n",
       "0          2015 137999939.28 1392445892.52  \n",
       "0          2015 137999939.28 1392445892.52  \n",
       "0          2015 137999939.28 1392445892.52  \n",
       "1          2015 137999939.28  348161292.49  "
      ]
     },
     "execution_count": 37,
     "metadata": {},
     "output_type": "execute_result"
    }
   ],
   "source": [
    "df_genres.head()"
   ]
  },
  {
   "cell_type": "markdown",
   "metadata": {},
   "source": [
    "**Saving the dataframe**"
   ]
  },
  {
   "cell_type": "code",
   "execution_count": 38,
   "metadata": {},
   "outputs": [],
   "source": [
    "file_name = 'tmdb_movies_cleaned.csv'\n",
    "df_clean.to_csv(file_name, encoding = 'utf-8', index=False)"
   ]
  },
  {
   "cell_type": "markdown",
   "metadata": {},
   "source": [
    "<a id='eda'></a>\n",
    "## Exploratory Data Analysis"
   ]
  },
  {
   "cell_type": "code",
   "execution_count": 39,
   "metadata": {},
   "outputs": [
    {
     "data": {
      "text/html": [
       "<div>\n",
       "<style scoped>\n",
       "    .dataframe tbody tr th:only-of-type {\n",
       "        vertical-align: middle;\n",
       "    }\n",
       "\n",
       "    .dataframe tbody tr th {\n",
       "        vertical-align: top;\n",
       "    }\n",
       "\n",
       "    .dataframe thead th {\n",
       "        text-align: right;\n",
       "    }\n",
       "</style>\n",
       "<table border=\"1\" class=\"dataframe\">\n",
       "  <thead>\n",
       "    <tr style=\"text-align: right;\">\n",
       "      <th></th>\n",
       "      <th>id</th>\n",
       "      <th>runtime</th>\n",
       "      <th>vote_average</th>\n",
       "      <th>release_year</th>\n",
       "      <th>budget_adj</th>\n",
       "      <th>revenue_adj</th>\n",
       "    </tr>\n",
       "  </thead>\n",
       "  <tbody>\n",
       "    <tr>\n",
       "      <th>count</th>\n",
       "      <td>10834.00</td>\n",
       "      <td>10834.00</td>\n",
       "      <td>10834.00</td>\n",
       "      <td>10834.00</td>\n",
       "      <td>5108.00</td>\n",
       "      <td>4849.00</td>\n",
       "    </tr>\n",
       "    <tr>\n",
       "      <th>mean</th>\n",
       "      <td>65750.13</td>\n",
       "      <td>102.36</td>\n",
       "      <td>5.98</td>\n",
       "      <td>2001.30</td>\n",
       "      <td>37327151.85</td>\n",
       "      <td>115100887.63</td>\n",
       "    </tr>\n",
       "    <tr>\n",
       "      <th>std</th>\n",
       "      <td>91819.99</td>\n",
       "      <td>30.95</td>\n",
       "      <td>0.94</td>\n",
       "      <td>12.82</td>\n",
       "      <td>42017548.78</td>\n",
       "      <td>198855667.98</td>\n",
       "    </tr>\n",
       "    <tr>\n",
       "      <th>min</th>\n",
       "      <td>5.00</td>\n",
       "      <td>2.00</td>\n",
       "      <td>1.50</td>\n",
       "      <td>1960.00</td>\n",
       "      <td>1307.35</td>\n",
       "      <td>2.37</td>\n",
       "    </tr>\n",
       "    <tr>\n",
       "      <th>25%</th>\n",
       "      <td>10586.25</td>\n",
       "      <td>90.00</td>\n",
       "      <td>5.40</td>\n",
       "      <td>1995.00</td>\n",
       "      <td>8608686.39</td>\n",
       "      <td>10465848.09</td>\n",
       "    </tr>\n",
       "    <tr>\n",
       "      <th>50%</th>\n",
       "      <td>20551.00</td>\n",
       "      <td>99.00</td>\n",
       "      <td>6.00</td>\n",
       "      <td>2006.00</td>\n",
       "      <td>23088908.00</td>\n",
       "      <td>43956661.16</td>\n",
       "    </tr>\n",
       "    <tr>\n",
       "      <th>75%</th>\n",
       "      <td>75055.00</td>\n",
       "      <td>112.00</td>\n",
       "      <td>6.60</td>\n",
       "      <td>2011.00</td>\n",
       "      <td>50456518.10</td>\n",
       "      <td>131648235.91</td>\n",
       "    </tr>\n",
       "    <tr>\n",
       "      <th>max</th>\n",
       "      <td>417859.00</td>\n",
       "      <td>900.00</td>\n",
       "      <td>9.20</td>\n",
       "      <td>2015.00</td>\n",
       "      <td>425000000.00</td>\n",
       "      <td>2827123750.41</td>\n",
       "    </tr>\n",
       "  </tbody>\n",
       "</table>\n",
       "</div>"
      ],
      "text/plain": [
       "             id  runtime  vote_average  release_year   budget_adj  \\\n",
       "count  10834.00 10834.00      10834.00      10834.00      5108.00   \n",
       "mean   65750.13   102.36          5.98       2001.30  37327151.85   \n",
       "std    91819.99    30.95          0.94         12.82  42017548.78   \n",
       "min        5.00     2.00          1.50       1960.00      1307.35   \n",
       "25%    10586.25    90.00          5.40       1995.00   8608686.39   \n",
       "50%    20551.00    99.00          6.00       2006.00  23088908.00   \n",
       "75%    75055.00   112.00          6.60       2011.00  50456518.10   \n",
       "max   417859.00   900.00          9.20       2015.00 425000000.00   \n",
       "\n",
       "        revenue_adj  \n",
       "count       4849.00  \n",
       "mean   115100887.63  \n",
       "std    198855667.98  \n",
       "min            2.37  \n",
       "25%     10465848.09  \n",
       "50%     43956661.16  \n",
       "75%    131648235.91  \n",
       "max   2827123750.41  "
      ]
     },
     "execution_count": 39,
     "metadata": {},
     "output_type": "execute_result"
    }
   ],
   "source": [
    "df_clean.describe()"
   ]
  },
  {
   "cell_type": "markdown",
   "metadata": {},
   "source": [
    "### What is the correlation between vote, budget, and revenue"
   ]
  },
  {
   "cell_type": "code",
   "execution_count": 359,
   "metadata": {},
   "outputs": [],
   "source": [
    "df_var = df_clean.copy()\n",
    "df_var.drop(['id', 'release_year', 'original_title', 'production_companies', 'genres'], axis=1, inplace=True)"
   ]
  },
  {
   "cell_type": "code",
   "execution_count": 360,
   "metadata": {
    "scrolled": false
   },
   "outputs": [
    {
     "data": {
      "image/png": "[encoded data removed]",
      "text/plain": [
       "<Figure size 576x576 with 2 Axes>"
      ]
     },
     "metadata": {},
     "output_type": "display_data"
    }
   ],
   "source": [
    "plt.subplots(figsize=(8, 8))\n",
    "sns.heatmap(df_var.corr(), annot=True,\n",
    "            xticklabels=['Duration', 'Vote', 'Budget', 'Revenue'], yticklabels=['Duration', 'Vote', 'Budget', 'Revenue'])\n",
    "plt.show()"
   ]
  },
  {
   "cell_type": "markdown",
   "metadata": {},
   "source": [
    "**Analysis**  \n",
    "- the strongest correlation among the variables is found between the budget and the revenue\n",
    "- A weaker correlation is found between revenue and both duration and vote\n",
    "- Almost no correlation between vote and both duration and budget. "
   ]
  },
  {
   "cell_type": "markdown",
   "metadata": {},
   "source": [
    "### Impact of voting score on revenue"
   ]
  },
  {
   "cell_type": "code",
   "execution_count": 379,
   "metadata": {
    "scrolled": false
   },
   "outputs": [
    {
     "data": {
      "image/png": "[encoded data removed]",
      "text/plain": [
       "<Figure size 1080x432 with 1 Axes>"
      ]
     },
     "metadata": {},
     "output_type": "display_data"
    }
   ],
   "source": [
    "plt.subplots(figsize = (15,6))\n",
    "sns.regplot(data=df_clean, x='vote_average', y = 'revenue_adj')\n",
    "plt.xlabel('Vote Score', size=14)\n",
    "plt.ylabel('Revenue (in terms of 2010 USD)', size=14)\n",
    "plt.title('Impact of Vote on Revenue', size=16)\n",
    "plt.xticks(ticks=[2,3,4,5,6,7,8,9])\n",
    "sns.despine()\n",
    "plt.show()"
   ]
  },
  {
   "cell_type": "markdown",
   "metadata": {},
   "source": [
    "### What's the distribution of genres\n",
    "What genres have significant more releases compared to the overall number of releases. "
   ]
  },
  {
   "cell_type": "code",
   "execution_count": 40,
   "metadata": {},
   "outputs": [],
   "source": [
    "genre_names=df_genres.genres.value_counts().index.str.title()\n",
    "genre_count=df_genres.genres.value_counts().values\n",
    "genre_percent = genre_count/(genre_count.sum())"
   ]
  },
  {
   "cell_type": "code",
   "execution_count": 41,
   "metadata": {},
   "outputs": [],
   "source": [
    "explode_v = np.array(0.05).repeat(len(genre_names))"
   ]
  },
  {
   "cell_type": "code",
   "execution_count": 42,
   "metadata": {},
   "outputs": [],
   "source": [
    "labels = ['{} - {:.1%}'.format(i,j) for i,j in zip(genre_names, genre_percent)]"
   ]
  },
  {
   "cell_type": "code",
   "execution_count": 43,
   "metadata": {},
   "outputs": [
    {
     "data": {
      "image/png": "[encoded data removed]",
      "text/plain": [
       "<Figure size 720x720 with 1 Axes>"
      ]
     },
     "metadata": {},
     "output_type": "display_data"
    }
   ],
   "source": [
    "plt.figure(figsize=(10,10))\n",
    "plt.pie(genre_count, labels=genre_names, explode = explode_v, textprops={'fontsize': 8})\n",
    "plt.title('Genres Distribution').set_fontsize(20)\n",
    "plt.legend(labels, loc='center left', fontsize=12, bbox_to_anchor=(-0.5, 0.5))\n",
    "plt.show()"
   ]
  },
  {
   "cell_type": "markdown",
   "metadata": {},
   "source": [
    "**Analysis**  \n",
    "Out of 20 genre, only 4 genres (Drama, Comedy, Thriller, Action) represent more than half of released movies for the studied period (1960 to 2015)"
   ]
  },
  {
   "cell_type": "markdown",
   "metadata": {},
   "source": [
    "### How did the top 4 genres change through the years"
   ]
  },
  {
   "cell_type": "code",
   "execution_count": 44,
   "metadata": {},
   "outputs": [],
   "source": [
    "gp_1 = df_genres.groupby(['genres', 'release_year'])"
   ]
  },
  {
   "cell_type": "code",
   "execution_count": 45,
   "metadata": {},
   "outputs": [],
   "source": [
    "select_gen = ['Drama', 'Comedy', 'Thriller', 'Action']\n",
    "df_new = pd.DataFrame(gp_1.count().id.reset_index()).rename(columns={'genres': 'Genres'\n",
    "                                                                   , 'release_year': 'Release'\n",
    "                                                                   , 'id': 'Count'})\n",
    "df_new = df_new[df_new.Genres.apply(lambda x: True if x in select_gen else False)]"
   ]
  },
  {
   "cell_type": "code",
   "execution_count": 46,
   "metadata": {},
   "outputs": [],
   "source": [
    "df_act = df_new[df_new.Genres=='Action'].drop('Genres', axis=1)\n",
    "df_com = df_new[df_new.Genres=='Comedy'].drop('Genres', axis=1)\n",
    "df_dra = df_new[df_new.Genres=='Drama'].drop('Genres', axis=1)\n",
    "df_thr = df_new[df_new.Genres=='Thriller'].drop('Genres', axis=1)"
   ]
  },
  {
   "cell_type": "code",
   "execution_count": 47,
   "metadata": {
    "scrolled": true
   },
   "outputs": [
    {
     "data": {
      "image/png": "[encoded data removed]",
      "text/plain": [
       "<Figure size 864x288 with 1 Axes>"
      ]
     },
     "metadata": {
      "needs_background": "light"
     },
     "output_type": "display_data"
    }
   ],
   "source": [
    "f, ax = plt.subplots(figsize=(12, 4))\n",
    "df_act.plot(kind='line', x='Release',y='Count', label='Action',ax=ax)\n",
    "df_com.plot(kind='line', x='Release',y='Count', label='Comedy',ax=ax)\n",
    "df_dra.plot(kind='line', x='Release',y='Count', label='Drama',ax=ax)\n",
    "df_thr.plot(kind='line', x='Release',y='Count', label='Thriller',ax=ax)\n",
    "plt.title('Genres Change Through The Years').set_fontsize(20)\n",
    "plt.xlabel('Release Year', size=14)\n",
    "plt.ylabel('Number of movies / year',  size=14)\n",
    "ax.spines[\"top\"].set_visible(False)\n",
    "ax.spines[\"right\"].set_visible(False)\n",
    "plt.legend(ncol=1, frameon=False, loc='center left')\n",
    "plt.show()"
   ]
  },
  {
   "cell_type": "markdown",
   "metadata": {},
   "source": [
    "**Analysis**  \n",
    "Out of the top 4 genres:\n",
    "- Drama saw a significant increase in numbers over the years, going from ~20 movies uo to more than 250 movie in 2015\n",
    "- Thriller and Comedy had a moderate rise and are similar in numbers, starting from ~10 and ending with ~180 movie per year\n",
    "- Action movies had the least growth, from 8 movies in 1960 to over 100 movies in 2015"
   ]
  },
  {
   "cell_type": "markdown",
   "metadata": {},
   "source": [
    "### Genre effect on revenue in last year"
   ]
  },
  {
   "cell_type": "code",
   "execution_count": 48,
   "metadata": {},
   "outputs": [],
   "source": [
    "gp_2=df_genres.groupby(['release_year', 'genres'])"
   ]
  },
  {
   "cell_type": "code",
   "execution_count": 49,
   "metadata": {},
   "outputs": [],
   "source": [
    "df_new2 = pd.DataFrame(gp_2.mean().revenue_adj.reset_index()).rename(columns={'genres': 'Genres',\n",
    "                                                                              'release_year': 'Release',\n",
    "                                                                              'revenue_adj': 'Revenue'})\n",
    "df_new2 = df_new2[df_new2.Release == 2015]\n",
    "df_new2=df_new2.sort_values(by=['Revenue'], ascending=False).dropna()"
   ]
  },
  {
   "cell_type": "code",
   "execution_count": 50,
   "metadata": {},
   "outputs": [],
   "source": [
    "f_labels = ['50M', '100M', '150M', '200M', '250M', '300M', '350M']\n",
    "f_ticks = [50000000, 100000000, 150000000, 200000000, 250000000, 300000000, 350000000]"
   ]
  },
  {
   "cell_type": "code",
   "execution_count": 377,
   "metadata": {},
   "outputs": [
    {
     "data": {
      "image/png": "[encoded data removed]",
      "text/plain": [
       "<Figure size 1080x432 with 1 Axes>"
      ]
     },
     "metadata": {},
     "output_type": "display_data"
    }
   ],
   "source": [
    "plt.subplots(figsize = (15,6))\n",
    "sns.barplot(data =df_new2,  x='Revenue', y='Genres')\n",
    "sns.set_style('whitegrid')\n",
    "plt.xlabel('Revenue (in terms of 2010 USD)', size=14)\n",
    "plt.ylabel('')\n",
    "plt.title('Average Revenue Per Movie Genre In 2015', size=16)\n",
    "plt.xticks(labels=f_labels, ticks= f_ticks)\n",
    "sns.despine(bottom=True, right=False)\n",
    "plt.show()"
   ]
  },
  {
   "cell_type": "markdown",
   "metadata": {},
   "source": [
    "**Analysis**  \n",
    "- Surprisngly, none of the 4 most common genres hold the best average revenue\n",
    "- Best average revenue for a movie in 2015 was for the adventure movies\n",
    "- Documentry movies have an underwhelming revenue with less than 10 Million USD"
   ]
  },
  {
   "cell_type": "markdown",
   "metadata": {},
   "source": [
    "**Analysis**  \n",
    "- Voting has a clear corelation with revenue, higher voted movies yielded a higher revenue.\n",
    "- The highest revenue was not for the highest rated movies, but was for movies rated between 7 to 8.5."
   ]
  },
  {
   "cell_type": "markdown",
   "metadata": {},
   "source": [
    "<a id='conclusions'></a>\n",
    "## Conclusions\n",
    "**Analysis**  \n",
    "This investigation is perfomed to analyze different aspects of movie release through the period of 1960 to 2015. After addressing some minor issue with the quality of the data, the analysis focused on two main variables: revenue and genres.\n",
    "- Between vote, duration, budget and revenue, the strongest correletion is between the budget and the revenue.  \n",
    "- Also, vote had a steady and moderate impact on revenue.  \n",
    "- Through the last 55 years, four major genres dominated the market in terms of number of releases. Drama, Comedy, Thriller, and Action constitute more than 50% of movie releases through the studied period.  \n",
    "- Drama also had a significant increase in movie releases over the years, up to more than 250 movie in 2015.  \n",
    "- Although the high nummber of releases and significant growth in Drama, this genre did poorly in revenues and was not among the top genres to produce income. The best average revenue for a genre in 2015 was for the Adventure movies.  \n",
    "  \n",
    "**Limitations**  \n",
    "- The provided dataset doesn't include every movie released in the studied period. So, the missing movies might actually cause a major change the average vote or revenue.\n",
    "- The popularity column in the initial data provided was too abigious to include in the analysis.\n",
    "- More than half the entries have no values for revenue and budget, this greatly reduces the accuracy of the results.\n",
    "- [(From the kaggle page)](https://www.kaggle.com/tmdb/tmdb-movie-metadata) Are the budgets and revenues all in US dollars? Do they consistently show the global revenues?\n",
    "- The revenues that show cumulative worldwide gross doesn't show how much is domestic and how much is foreign, some movies might do better in USA than in the rest of the world, and others might gain more revenue worldwide.\n",
    "- Revenue is calculated based on box office profit, it doesn't include the profit from selling the movie through streaming services. This could affect the revenue especially in the recent years starting from 2010.  "
   ]
  }
 ],
 "metadata": {
  "kernelspec": {
   "display_name": "Python 3",
   "language": "python",
   "name": "python3"
  },
  "language_info": {
   "codemirror_mode": {
    "name": "ipython",
    "version": 3
   },
   "file_extension": ".py",
   "mimetype": "text/x-python",
   "name": "python",
   "nbconvert_exporter": "python",
   "pygments_lexer": "ipython3",
   "version": "3.8.5"
  },
  "toc": {
   "base_numbering": 1,
   "nav_menu": {},
   "number_sections": true,
   "sideBar": true,
   "skip_h1_title": false,
   "title_cell": "Table of Contents",
   "title_sidebar": "Contents",
   "toc_cell": false,
   "toc_position": {},
   "toc_section_display": true,
   "toc_window_display": false
  }
 },
 "nbformat": 4,
 "nbformat_minor": 2
}
